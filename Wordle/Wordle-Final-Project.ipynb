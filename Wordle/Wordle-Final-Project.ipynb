{
 "cells": [
  {
   "cell_type": "markdown",
   "metadata": {},
   "source": [
    "## Imports"
   ]
  },
  {
   "cell_type": "code",
   "execution_count": 58,
   "metadata": {
    "ExecuteTime": {
     "end_time": "2022-08-30T11:50:49.193566Z",
     "start_time": "2022-08-30T11:50:48.633466Z"
    }
   },
   "outputs": [],
   "source": [
    "import pandas as pd\n",
    "import random\n",
    "import sys\n",
    "from docplex.cp.model import CpoModel"
   ]
  },
  {
   "cell_type": "code",
   "execution_count": 57,
   "metadata": {},
   "outputs": [],
   "source": [
    "# convert a word represented as an array of chars into a string\n",
    "def convert_array_to_string(w):\n",
    "    str = \"\"\n",
    "    for i in range(len(w)):\n",
    "        str += w[i]\n",
    "    return str\n",
    "\n",
    "# get a set of words as strings \n",
    "def get_set_of_words(fileName):\n",
    "    words_raw = pd.read_csv(fileName)\n",
    "    words = words_raw['words']\n",
    "    Words = set()\n",
    "    for i in range(len(words)):\n",
    "        if len(words[i]) > 5:\n",
    "            continue\n",
    "        Words.add(convert_array_to_string(words[i]))\n",
    "    return Words"
   ]
  },
  {
   "cell_type": "code",
   "execution_count": 56,
   "metadata": {},
   "outputs": [],
   "source": [
    "def ct_freq(w):\n",
    "    ct = [0]*26\n",
    "    for l in w:\n",
    "        ct[l]+=1\n",
    "    return ct\n",
    "\n",
    "def tuple_ord(Words):   # Return a set of tuples \n",
    "    Words=list(Words)\n",
    "    s=list()\n",
    "    con_word=list()\n",
    "    for i in range(len(Words)):\n",
    "        for j in range(len(Words[i])):\n",
    "            s.append(ord(Words[i][j])-ord('a'))              \n",
    "        con_word.append(tuple(s))\n",
    "        s=list()\n",
    "    return con_word\n",
    "\n"
   ]
  },
  {
   "cell_type": "code",
   "execution_count": 55,
   "metadata": {},
   "outputs": [],
   "source": [
    "def ord_to_str(w):    #Takes list/tuple as input and return a word string as output\n",
    "    s=\"\"\n",
    "    for i in range(5):\n",
    "        s=s+chr(w[i]+ord('a'))\n",
    "    return s\n",
    "\n",
    "def ord_to_str_list(Words):   # Return a list of tuples \n",
    "    ord_word = []\n",
    "    for w in Words:\n",
    "        word_ord = []\n",
    "        for l in w:\n",
    "            word_ord.append(ord(l)-ord('a'))\n",
    "        ord_word.append(tuple(word_ord))   \n",
    "    return ord_word "
   ]
  },
  {
   "cell_type": "code",
   "execution_count": 64,
   "metadata": {},
   "outputs": [],
   "source": [
    "# this function returns a guess that is consistent with the prior history of guesses and the set of Words\n",
    "# input:\n",
    "#       a set of words represented as strings\n",
    "#       a history of prior guesses and their assessments: \n",
    "#       the history is an array whose elements are (guess,nb_correct,nb_present) where\n",
    "#       guess is a string, nb_correct is the number of correct letters and nb_position is the number of letters \n",
    "#       that are present but incorrectly placed. \n",
    "# output:\n",
    "#       a new guess as a string\n",
    "\n",
    "def guess(Words,history):\n",
    "    if len(history)==0: # samples random word for initial guess\n",
    "        return random.sample(Words,1)[0]\n",
    "        \n",
    "    w_ord = tuple_ord(Words)\n",
    "    hist_set = set()\n",
    "    for h in history:\n",
    "        hist_set.add(h[0])\n",
    "    ord_hist = tuple_ord(hist_set)\n",
    "    \n",
    "    hist_list = []\n",
    "    for h in history:\n",
    "        hist_list.append(h[0])\n",
    "    ord_hist_list = ord_to_str_list(hist_list)\n",
    "    \n",
    "    # create model \n",
    "    m = CpoModel()\n",
    "    # dvars\n",
    "    w = m.integer_var_list(5,min=0,max=25,name=\"w\")\n",
    "    frequency = m.integer_var_list(26,min=0,max=5,name=\"frequency\")\n",
    "    \n",
    "    freq = []\n",
    "    idx=0\n",
    "    \n",
    "    for guess in ord_hist_list:\n",
    "        freq.append(ct_freq(guess))\n",
    "    \n",
    "    # Constraint 0: Table Constraints\n",
    "    m.add(m.allowed_assignments(w, w_ord))\n",
    "    m.add(m.forbidden_assignments(w, ord_hist))\n",
    "    \n",
    "    # Constraint 1: Correct constraints\n",
    "    for guess in history:\n",
    "        prev_guess=guess[0] # String\n",
    "        m.add(m.sum([(w[i]== (ord(prev_guess[i])-ord('a'))) for i in range(5)])==guess[1]) \n",
    "        idx+=1\n",
    "    \n",
    "    # Constraint 2: Incorrect Constraint\n",
    "    for i in range(len(history)):\n",
    "        m.add(m.sum([m.min(frequency[ord_letter], freq[i][ord_letter]) for ord_letter in range(26)])==history[i][1]+history[i][2]) # No. Incorrect Constraint    \n",
    "    \n",
    "    # Constraint 3: Frequency constraint\n",
    "    for i in range(26):\n",
    "        m.add(frequency[i]==m.count(w, i))\n",
    "\n",
    "    msol = m.solve(LogVerbosity='Quiet')\n",
    "    \n",
    "    sol=[]\n",
    "    for i in range(5):\n",
    "        sol.append(msol[w[i]])\n",
    "    \n",
    "    return ord_to_str(sol)"
   ]
  },
  {
   "cell_type": "code",
   "execution_count": 53,
   "metadata": {},
   "outputs": [],
   "source": [
    "# this function returns a secret word from the set of Words\n",
    "\n",
    "def select_secret_word(Words):\n",
    "    return random.sample(Words,1)[0]"
   ]
  },
  {
   "cell_type": "code",
   "execution_count": 52,
   "metadata": {},
   "outputs": [],
   "source": [
    "# this function computes the score (nb_correct,nb_present) for the guess given the secret word\n",
    "\n",
    "def compute_scores(secret,guess):\n",
    "    nbCorrect=0\n",
    "    nbPresent=0\n",
    "    correct_letters=\"\"\n",
    "    present_letters=\"\"\n",
    "    for i in range(len(secret)):\n",
    "        if(secret[i]==guess[i]):\n",
    "            nbCorrect=nbCorrect+1\n",
    "            correct_letters=correct_letters+secret[i] \n",
    "    \n",
    "    for i in range(len(secret)):\n",
    "        if((secret[i] in guess) and (secret[i]!=guess[i]) and (secret[i] not in correct_letters)):\n",
    "            if(secret[i] in present_letters):\n",
    "                continue\n",
    "            nbPresent=nbPresent+1\n",
    "            present_letters=present_letters+secret[i]\n",
    "    return (nbCorrect,nbPresent)"
   ]
  },
  {
   "cell_type": "code",
   "execution_count": 62,
   "metadata": {},
   "outputs": [],
   "source": [
    "# this function plays the game with the list of words in the file name\n",
    "def play_wordle(fileName):\n",
    "    Words = get_set_of_words(fileName)\n",
    "    secret = select_secret_word(Words)\n",
    "    print(\"secret:\",secret)\n",
    "    history = []\n",
    "    i = 0\n",
    "    while True:\n",
    "        g = guess(Words,history)\n",
    "        print(\"guess :\",g) \n",
    "        (nbCorrect,nbPresent) = compute_scores(secret,g)\n",
    "        print(\"\\t correct:\",nbCorrect,\" present:\",nbPresent)\n",
    "        if nbCorrect == len(secret):\n",
    "            break\n",
    "        history.append((g,nbCorrect,nbPresent))"
   ]
  },
  {
   "cell_type": "code",
   "execution_count": 65,
   "metadata": {},
   "outputs": [
    {
     "name": "stdout",
     "output_type": "stream",
     "text": [
      "secret: parts\n",
      "guess : gives\n",
      "\t correct: 1  present: 0\n",
      "guess : bowls\n",
      "\t correct: 1  present: 0\n",
      "guess : newer\n",
      "\t correct: 0  present: 1\n",
      "guess : czars\n",
      "\t correct: 1  present: 2\n",
      "guess : yards\n",
      "\t correct: 3  present: 0\n",
      "guess : parks\n",
      "\t correct: 4  present: 0\n",
      "guess : parts\n",
      "\t correct: 5  present: 0\n"
     ]
    }
   ],
   "source": [
    "play_wordle('5-letter-words.csv')"
   ]
  },
  {
   "cell_type": "code",
   "execution_count": null,
   "metadata": {
    "hidden": true
   },
   "outputs": [],
   "source": []
  }
 ],
 "metadata": {
  "kernelspec": {
   "display_name": "Python 3.8.10 64-bit",
   "language": "python",
   "name": "python3"
  },
  "language_info": {
   "codemirror_mode": {
    "name": "ipython",
    "version": 3
   },
   "file_extension": ".py",
   "mimetype": "text/x-python",
   "name": "python",
   "nbconvert_exporter": "python",
   "pygments_lexer": "ipython3",
   "version": "3.8.10"
  },
  "varInspector": {
   "cols": {
    "lenName": 16,
    "lenType": 16,
    "lenVar": 40
   },
   "kernels_config": {
    "python": {
     "delete_cmd_postfix": "",
     "delete_cmd_prefix": "del ",
     "library": "var_list.py",
     "varRefreshCmd": "print(var_dic_list())"
    },
    "r": {
     "delete_cmd_postfix": ") ",
     "delete_cmd_prefix": "rm(",
     "library": "var_list.r",
     "varRefreshCmd": "cat(var_dic_list()) "
    }
   },
   "types_to_exclude": [
    "module",
    "function",
    "builtin_function_or_method",
    "instance",
    "_Feature"
   ],
   "window_display": false
  },
  "vscode": {
   "interpreter": {
    "hash": "9650cb4e16cdd4a8e8e2d128bf38d875813998db22a3c986335f89e0cb4d7bb2"
   }
  }
 },
 "nbformat": 4,
 "nbformat_minor": 4
}
